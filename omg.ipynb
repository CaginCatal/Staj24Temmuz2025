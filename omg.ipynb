{
 "cells": [
  {
   "cell_type": "markdown",
   "id": "da54a99c-1a1d-4e21-8e44-a7d38b7ec2d9",
   "metadata": {
    "jp-MarkdownHeadingCollapsed": true
   },
   "source": [
    "# kurulum"
   ]
  },
  {
   "cell_type": "code",
   "execution_count": 17,
   "id": "64c95329-13c0-40bd-8bec-0393cae45b44",
   "metadata": {},
   "outputs": [
    {
     "name": "stdout",
     "output_type": "stream",
     "text": [
      "Requirement already satisfied: openai in c:\\users\\cagin\\appdata\\local\\programs\\python\\python310\\lib\\site-packages (1.97.0)\n",
      "Requirement already satisfied: anyio<5,>=3.5.0 in c:\\users\\cagin\\appdata\\local\\programs\\python\\python310\\lib\\site-packages (from openai) (4.9.0)\n",
      "Requirement already satisfied: pydantic<3,>=1.9.0 in c:\\users\\cagin\\appdata\\local\\programs\\python\\python310\\lib\\site-packages (from openai) (2.11.7)\n",
      "Requirement already satisfied: tqdm>4 in c:\\users\\cagin\\appdata\\local\\programs\\python\\python310\\lib\\site-packages (from openai) (4.67.1)\n",
      "Requirement already satisfied: distro<2,>=1.7.0 in c:\\users\\cagin\\appdata\\local\\programs\\python\\python310\\lib\\site-packages (from openai) (1.9.0)\n",
      "Requirement already satisfied: jiter<1,>=0.4.0 in c:\\users\\cagin\\appdata\\local\\programs\\python\\python310\\lib\\site-packages (from openai) (0.10.0)\n",
      "Requirement already satisfied: typing-extensions<5,>=4.11 in c:\\users\\cagin\\appdata\\local\\programs\\python\\python310\\lib\\site-packages (from openai) (4.14.1)\n",
      "Requirement already satisfied: httpx<1,>=0.23.0 in c:\\users\\cagin\\appdata\\local\\programs\\python\\python310\\lib\\site-packages (from openai) (0.28.1)\n",
      "Requirement already satisfied: sniffio in c:\\users\\cagin\\appdata\\local\\programs\\python\\python310\\lib\\site-packages (from openai) (1.3.1)\n",
      "Requirement already satisfied: exceptiongroup>=1.0.2 in c:\\users\\cagin\\appdata\\local\\programs\\python\\python310\\lib\\site-packages (from anyio<5,>=3.5.0->openai) (1.3.0)\n",
      "Requirement already satisfied: idna>=2.8 in c:\\users\\cagin\\appdata\\local\\programs\\python\\python310\\lib\\site-packages (from anyio<5,>=3.5.0->openai) (3.10)\n",
      "Requirement already satisfied: certifi in c:\\users\\cagin\\appdata\\local\\programs\\python\\python310\\lib\\site-packages (from httpx<1,>=0.23.0->openai) (2025.7.14)\n",
      "Requirement already satisfied: httpcore==1.* in c:\\users\\cagin\\appdata\\local\\programs\\python\\python310\\lib\\site-packages (from httpx<1,>=0.23.0->openai) (1.0.9)\n",
      "Requirement already satisfied: h11>=0.16 in c:\\users\\cagin\\appdata\\local\\programs\\python\\python310\\lib\\site-packages (from httpcore==1.*->httpx<1,>=0.23.0->openai) (0.16.0)\n",
      "Requirement already satisfied: annotated-types>=0.6.0 in c:\\users\\cagin\\appdata\\local\\programs\\python\\python310\\lib\\site-packages (from pydantic<3,>=1.9.0->openai) (0.7.0)\n",
      "Requirement already satisfied: typing-inspection>=0.4.0 in c:\\users\\cagin\\appdata\\local\\programs\\python\\python310\\lib\\site-packages (from pydantic<3,>=1.9.0->openai) (0.4.1)\n",
      "Requirement already satisfied: pydantic-core==2.33.2 in c:\\users\\cagin\\appdata\\local\\programs\\python\\python310\\lib\\site-packages (from pydantic<3,>=1.9.0->openai) (2.33.2)\n",
      "Requirement already satisfied: colorama in c:\\users\\cagin\\appdata\\local\\programs\\python\\python310\\lib\\site-packages (from tqdm>4->openai) (0.4.6)\n"
     ]
    },
    {
     "name": "stderr",
     "output_type": "stream",
     "text": [
      "\n",
      "[notice] A new release of pip available: 22.2.1 -> 25.1.1\n",
      "[notice] To update, run: python.exe -m pip install --upgrade pip\n"
     ]
    }
   ],
   "source": [
    "!pip install openai"
   ]
  },
  {
   "cell_type": "code",
   "execution_count": 18,
   "id": "7c1243a1-ce06-4bdd-af0b-39b729f90385",
   "metadata": {},
   "outputs": [
    {
     "name": "stdout",
     "output_type": "stream",
     "text": [
      "Name: openai\n",
      "Version: 1.97.0\n",
      "Summary: The official Python library for the openai API\n",
      "Home-page: \n",
      "Author: \n",
      "Author-email: OpenAI <support@openai.com>\n",
      "License: Apache-2.0\n",
      "Location: c:\\users\\cagin\\appdata\\local\\programs\\python\\python310\\lib\\site-packages\n",
      "Requires: anyio, distro, httpx, jiter, pydantic, sniffio, tqdm, typing-extensions\n",
      "Required-by: \n"
     ]
    }
   ],
   "source": [
    "!pip show openai"
   ]
  },
  {
   "cell_type": "code",
   "execution_count": 19,
   "id": "777df4ee-bd7d-4d32-a494-2d992c033c74",
   "metadata": {},
   "outputs": [
    {
     "name": "stdout",
     "output_type": "stream",
     "text": [
      "C:\\Users\\cagin\\AppData\\Local\\Programs\\Python\\Python313\\python.exe\n"
     ]
    }
   ],
   "source": [
    "import sys\n",
    "print(sys.executable)"
   ]
  },
  {
   "cell_type": "code",
   "execution_count": 20,
   "id": "079e05bb-04ff-4311-a6b0-f2dd1a00908b",
   "metadata": {},
   "outputs": [
    {
     "name": "stdout",
     "output_type": "stream",
     "text": [
      "Requirement already satisfied: openai in c:\\users\\cagin\\appdata\\local\\programs\\python\\python313\\lib\\site-packages (0.28.1)\n",
      "Requirement already satisfied: requests>=2.20 in c:\\users\\cagin\\appdata\\local\\programs\\python\\python313\\lib\\site-packages (from openai) (2.32.3)\n",
      "Requirement already satisfied: tqdm in c:\\users\\cagin\\appdata\\local\\programs\\python\\python313\\lib\\site-packages (from openai) (4.67.1)\n",
      "Requirement already satisfied: aiohttp in c:\\users\\cagin\\appdata\\local\\programs\\python\\python313\\lib\\site-packages (from openai) (3.12.14)\n",
      "Requirement already satisfied: charset-normalizer<4,>=2 in c:\\users\\cagin\\appdata\\local\\programs\\python\\python313\\lib\\site-packages (from requests>=2.20->openai) (3.4.0)\n",
      "Requirement already satisfied: idna<4,>=2.5 in c:\\users\\cagin\\appdata\\local\\programs\\python\\python313\\lib\\site-packages (from requests>=2.20->openai) (3.10)\n",
      "Requirement already satisfied: urllib3<3,>=1.21.1 in c:\\users\\cagin\\appdata\\local\\programs\\python\\python313\\lib\\site-packages (from requests>=2.20->openai) (2.2.3)\n",
      "Requirement already satisfied: certifi>=2017.4.17 in c:\\users\\cagin\\appdata\\local\\programs\\python\\python313\\lib\\site-packages (from requests>=2.20->openai) (2024.8.30)\n",
      "Requirement already satisfied: aiohappyeyeballs>=2.5.0 in c:\\users\\cagin\\appdata\\local\\programs\\python\\python313\\lib\\site-packages (from aiohttp->openai) (2.6.1)\n",
      "Requirement already satisfied: aiosignal>=1.4.0 in c:\\users\\cagin\\appdata\\local\\programs\\python\\python313\\lib\\site-packages (from aiohttp->openai) (1.4.0)\n",
      "Requirement already satisfied: attrs>=17.3.0 in c:\\users\\cagin\\appdata\\local\\programs\\python\\python313\\lib\\site-packages (from aiohttp->openai) (24.2.0)\n",
      "Requirement already satisfied: frozenlist>=1.1.1 in c:\\users\\cagin\\appdata\\local\\programs\\python\\python313\\lib\\site-packages (from aiohttp->openai) (1.7.0)\n",
      "Requirement already satisfied: multidict<7.0,>=4.5 in c:\\users\\cagin\\appdata\\local\\programs\\python\\python313\\lib\\site-packages (from aiohttp->openai) (6.6.3)\n",
      "Requirement already satisfied: propcache>=0.2.0 in c:\\users\\cagin\\appdata\\local\\programs\\python\\python313\\lib\\site-packages (from aiohttp->openai) (0.3.2)\n",
      "Requirement already satisfied: yarl<2.0,>=1.17.0 in c:\\users\\cagin\\appdata\\local\\programs\\python\\python313\\lib\\site-packages (from aiohttp->openai) (1.20.1)\n",
      "Requirement already satisfied: colorama in c:\\users\\cagin\\appdata\\local\\programs\\python\\python313\\lib\\site-packages (from tqdm->openai) (0.4.6)\n"
     ]
    },
    {
     "name": "stderr",
     "output_type": "stream",
     "text": [
      "\n",
      "[notice] A new release of pip is available: 25.0.1 -> 25.1.1\n",
      "[notice] To update, run: C:\\Users\\cagin\\AppData\\Local\\Programs\\Python\\Python313\\python.exe -m pip install --upgrade pip\n"
     ]
    }
   ],
   "source": [
    "!C:\\Users\\cagin\\AppData\\Local\\Programs\\Python\\Python313\\python.exe -m pip install openai"
   ]
  },
  {
   "cell_type": "markdown",
   "id": "33a2e1fe-5ddb-4584-8b98-36bde33abbe0",
   "metadata": {},
   "source": [
    "# kod"
   ]
  },
  {
   "cell_type": "code",
   "execution_count": 21,
   "id": "66fb2f96-b1eb-4b1f-ab7f-00189aeed365",
   "metadata": {},
   "outputs": [],
   "source": [
    "## key: sk-7427782d5a614814b8f422dcc6b0ffbd\n",
    "## key: sk-7427782d5a614814b8f422dcc6b0ffbd\n",
    "## key: sk-7427782d5a614814b8f422dcc6b0ffbd"
   ]
  },
  {
   "cell_type": "code",
   "execution_count": 36,
   "id": "e86fb571-e8a3-4237-be2d-92116097d618",
   "metadata": {},
   "outputs": [
    {
     "name": "stdout",
     "output_type": "stream",
     "text": [
      "💰 Şu an off-peak saatindesiniz (19:30 - 03:30). DeepSeek-R1 sorgu başına %75 indirimle $0.0002 harcanır.\n"
     ]
    }
   ],
   "source": [
    "from datetime import datetime, time, timezone\n",
    "\n",
    "def is_off_peak():\n",
    "    # Şu anki UTC saatini timezone bilgisiyle birlikte alıyoruz\n",
    "    utc_now = datetime.now(timezone.utc).time()\n",
    "    \n",
    "    # Off-peak başlangıç ve bitiş saatleri (UTC)\n",
    "    start_off_peak = time(16, 30)  # 16:30 UTC - 19:30 TR\n",
    "    end_off_peak = time(0, 30)     # 00:30 UTC - 03:30 TR (geceyarısından sonraki saat)\n",
    "    \n",
    "    if start_off_peak < end_off_peak:\n",
    "        # Normal durum (aynı gün içinde)\n",
    "        return start_off_peak <= utc_now <= end_off_peak\n",
    "    else:\n",
    "        # Gece yarısını aşan durum (örnek: 16:30 - 00:30)\n",
    "        return utc_now >= start_off_peak or utc_now <= end_off_peak\n",
    "\n",
    "def print_cost_info():\n",
    "    if is_off_peak():\n",
    "        print(\"💰 Şu an off-peak saatindesiniz (19:30 - 03:30). DeepSeek-R1 sorgu başına %75 indirimle $0.0002 harcanır.\")\n",
    "    else:\n",
    "        print(\"💰 Normal saatlerde DeepSeek-R1 sorgu başına $0.0008 ücretlendirilirsiniz.\")\n",
    "\n",
    "# Kullanımı:\n",
    "print_cost_info()"
   ]
  },
  {
   "cell_type": "code",
   "execution_count": 29,
   "id": "2b2496f7-f101-4c12-b25a-00a5b3243426",
   "metadata": {},
   "outputs": [
    {
     "name": "stdout",
     "output_type": "stream",
     "text": [
      "💬 DeepSeek-R1 Chatbox'a hoş geldiniz!\n",
      "⌛ Türkiye saatiyle 19:30 - 03:30 arası ücretsizdir.\n",
      "🚪 Çıkmak için 'exit' yazın.\n",
      "\n"
     ]
    },
    {
     "name": "stdin",
     "output_type": "stream",
     "text": [
      "👤 Sen:  merhaba yardıma ihtiyacım var\n"
     ]
    },
    {
     "name": "stdout",
     "output_type": "stream",
     "text": [
      "🤖 DeepSeek: Merhaba! Tabii ki, size yardımcı olmak için buradayım. 🧡  \n",
      "Lütfen ihtiyacınız olan konuyu belirtin (örneğin: ders, teknik sorun, günlük hayat, planlama, vb.). Ne kadar detay verirseniz o kadar iyi destek olabilirim.  \n",
      "\n",
      "Örnekler:  \n",
      "- **\"Matematik sorusu çözemiyorum…\"**  \n",
      "- **\"Bilgisayarım açılmıyor, ne yapmalıyım?\"**  \n",
      "- **\"İngilizce öğrenmek istiyorum, nasıl başlamalıyım?\"**  \n",
      "\n",
      "Hemen sorunuzu yazın, birlikte çözüm bulalım! ✨\n"
     ]
    },
    {
     "name": "stdin",
     "output_type": "stream",
     "text": [
      "👤 Sen:  exit\n"
     ]
    },
    {
     "name": "stdout",
     "output_type": "stream",
     "text": [
      "👋 Görüşmek üzere!\n"
     ]
    }
   ],
   "source": [
    "import requests\n",
    "\n",
    "api_key = \"sk-7427782d5a614814b8f422dcc6b0ffbd\"\n",
    "base_url = \"https://api.deepseek.com/v1/chat/completions\"\n",
    "\n",
    "headers = {\n",
    "    \"Authorization\": f\"Bearer {api_key}\",\n",
    "    \"Content-Type\": \"application/json\"\n",
    "}\n",
    "\n",
    "chat_history = [{\"role\": \"system\", \"content\": \"You are a helpful assistant.\"}]\n",
    "\n",
    "print(\"💬 DeepSeek-R1 Chatbox'a hoş geldiniz!\")\n",
    "print(\"⌛ Türkiye saatiyle 19:30 - 03:30 arası ücretsizdir.\")\n",
    "print(\"🚪 Çıkmak için 'exit' yazın.\\n\")\n",
    "\n",
    "while True:\n",
    "    user_input = input(\"👤 Sen: \")\n",
    "    if user_input.lower() == \"exit\":\n",
    "        print(\"👋 Görüşmek üzere!\")\n",
    "        break\n",
    "\n",
    "    chat_history.append({\"role\": \"user\", \"content\": user_input})\n",
    "\n",
    "    data = {\n",
    "        \"model\": \"deepseek-reasoner\",\n",
    "        \"messages\": chat_history\n",
    "    }\n",
    "\n",
    "    response = requests.post(base_url, json=data, headers=headers)\n",
    "\n",
    "    if response.status_code == 200:\n",
    "        assistant_reply = response.json()['choices'][0]['message']['content']\n",
    "        chat_history.append({\"role\": \"assistant\", \"content\": assistant_reply})\n",
    "        print(\"🤖 DeepSeek:\", assistant_reply)\n",
    "    else:\n",
    "        print(f\"❌ Hata {response.status_code}: {response.text}\")"
   ]
  },
  {
   "cell_type": "markdown",
   "id": "f9da5efd-d8c8-4747-9592-54507fecd207",
   "metadata": {},
   "source": [
    "# fatura yazdırma"
   ]
  },
  {
   "cell_type": "code",
   "execution_count": 47,
   "id": "9a539fff-8c28-4c05-ae86-99688efef09f",
   "metadata": {},
   "outputs": [],
   "source": [
    "def generate_invoice(text: str) -> str:\n",
    "    # Geliştirilmiş desenler\n",
    "    name_pattern = r\"(?:adı\\s*soyadı\\s*:)?\\s*(?:biraz önce\\s*)?([A-ZÇĞİÖŞÜ][a-zçğıöşü]+\\s+[A-ZÇĞİÖŞÜ][a-zçğıöşü]+)\"\n",
    "    date_pattern = r\"(?:fatura\\s*(?:kesim)?\\s*tarihi\\s*:)?\\s*([0-9]{1,2}\\s*\\w+\\s*[0-9]{4})\"\n",
    "    amount_pattern = r\"([0-9]{1,3}(?:[.,][0-9]{3})*(?:[.,][0-9]{2})?)\\s*(tl|₺|dolar|usd)?\"\n",
    "    desc_pattern = r\"(?:açıklama|detay|nedeni|sebep)\\s*:\\s*([^,]+)|([a-zçğıöşü\\s]+ücreti)\"\n",
    "\n",
    "    # Eşleştirme\n",
    "    name = re.search(name_pattern, text, re.IGNORECASE)\n",
    "    date = re.search(date_pattern, text, re.IGNORECASE)\n",
    "    amount_match = re.search(amount_pattern, text, re.IGNORECASE)\n",
    "    description = re.search(desc_pattern, text, re.IGNORECASE)\n",
    "\n",
    "    # Verileri ayrıştır\n",
    "    name = name.group(1).strip() if name else \"Belirtilmedi\"\n",
    "    date = date.group(1).strip() if date else datetime.now().strftime(\"%d %B %Y\")\n",
    "    \n",
    "    if amount_match:\n",
    "        amount = amount_match.group(1).replace(\",\", \".\").strip()\n",
    "        currency = amount_match.group(2) or \"tl\"\n",
    "        currency_symbol = \"₺\" if \"tl\" in currency.lower() or \"₺\" in currency else \"$\"\n",
    "    else:\n",
    "        amount = \"0.00\"\n",
    "        currency_symbol = \"$\"\n",
    "\n",
    "    if description:\n",
    "        description = (description.group(1) or description.group(2)).strip()\n",
    "    else:\n",
    "        description = \"Yapay zekâ kullanım hizmeti\"\n",
    "\n",
    "    # Fatura metni\n",
    "    invoice = f\"\"\"📄 FATURA\n",
    "\n",
    "👤 Adı Soyadı: {name}\n",
    "🗓️ Fatura Tarihi: {date}\n",
    "💵 Tutar: {currency_symbol}{amount}\n",
    "📝 Açıklama: {description}\n",
    "\n",
    "Teşekkür ederiz. Bu fatura, {date} tarihinde yapay zekâ destekli hizmet kullanımı karşılığında kesilmiştir.\n",
    "\"\"\"\n",
    "    return invoice"
   ]
  },
  {
   "cell_type": "code",
   "execution_count": 48,
   "id": "8bff628c-a612-4975-858b-baeb9c680ff6",
   "metadata": {},
   "outputs": [],
   "source": [
    "def start_invoice_chat():\n",
    "    print(\"🧾 Yapay Zekâ Destekli Fatura Chatbotuna Hoş Geldiniz.\")\n",
    "    print(\"Lütfen aşağıdaki gibi bir mesaj girin:\\n\")\n",
    "    print(\"Örnek: adı soyadı: Ahmet Yılmaz, fatura: 24 Temmuz 2025, tutar: 350 dolar, açıklama: danışmanlık ücreti\\n\")\n",
    "    print(\"❌ Çıkmak için: 'çık', 'exit', 'quit' yazabilirsiniz.\\n\")\n",
    "\n",
    "    while True:\n",
    "        user_input = input(\"🗨️ Siz: \")\n",
    "        if user_input.lower() in ['çık', 'exit', 'quit']:\n",
    "            print(\"🔚 Chat sonlandırıldı.\")\n",
    "            break\n",
    "\n",
    "        invoice = generate_invoice(user_input)\n",
    "        print(\"\\n📤 Oluşturulan Fatura:\\n\")\n",
    "        print(invoice)\n",
    "        print(\"━━━━━━━━━━━━━━━━━━━━━━━━━━━\\n\")"
   ]
  },
  {
   "cell_type": "code",
   "execution_count": 49,
   "id": "37c60b22-3479-45af-bdd7-973b0f97f9e1",
   "metadata": {},
   "outputs": [
    {
     "name": "stdout",
     "output_type": "stream",
     "text": [
      "🧾 Yapay Zekâ Destekli Fatura Chatbotuna Hoş Geldiniz.\n",
      "Lütfen aşağıdaki gibi bir mesaj girin:\n",
      "\n",
      "Örnek: adı soyadı: Ahmet Yılmaz, fatura: 24 Temmuz 2025, tutar: 350 dolar, açıklama: danışmanlık ücreti\n",
      "\n",
      "❌ Çıkmak için: 'çık', 'exit', 'quit' yazabilirsiniz.\n",
      "\n"
     ]
    },
    {
     "name": "stdin",
     "output_type": "stream",
     "text": [
      "🗨️ Siz:  biraz önce Çağay Çatal 400 tl şirket içi abolnelik aldı\n"
     ]
    },
    {
     "name": "stdout",
     "output_type": "stream",
     "text": [
      "\n",
      "📤 Oluşturulan Fatura:\n",
      "\n",
      "📄 FATURA\n",
      "\n",
      "👤 Adı Soyadı: Çağay Çatal\n",
      "🗓️ Fatura Tarihi: 24 July 2025\n",
      "💵 Tutar: ₺400\n",
      "📝 Açıklama: Yapay zekâ kullanım hizmeti\n",
      "\n",
      "Teşekkür ederiz. Bu fatura, 24 July 2025 tarihinde yapay zekâ destekli hizmet kullanımı karşılığında kesilmiştir.\n",
      "\n",
      "━━━━━━━━━━━━━━━━━━━━━━━━━━━\n",
      "\n"
     ]
    },
    {
     "name": "stdin",
     "output_type": "stream",
     "text": [
      "🗨️ Siz:  exit\n"
     ]
    },
    {
     "name": "stdout",
     "output_type": "stream",
     "text": [
      "🔚 Chat sonlandırıldı.\n"
     ]
    }
   ],
   "source": [
    "start_invoice_chat()"
   ]
  },
  {
   "cell_type": "markdown",
   "id": "d4d15e22-5d3a-4b24-ad00-ad89927bb2a7",
   "metadata": {},
   "source": [
    "# deepseek + fatura"
   ]
  },
  {
   "cell_type": "code",
   "execution_count": null,
   "id": "63e3b01a-e76c-4633-89b9-84941b713eae",
   "metadata": {},
   "outputs": [
    {
     "name": "stdout",
     "output_type": "stream",
     "text": [
      "🧾 Yapay Zekâ Destekli Fatura Chatbotuna Hoş Geldiniz.\n",
      "Lütfen fatura bilgilerinizi doğal dil ile yazınız.\n",
      "❌ Çıkmak için: 'çık', 'exit', 'quit' yazabilirsiniz.\n",
      "\n"
     ]
    },
    {
     "name": "stdin",
     "output_type": "stream",
     "text": [
      "🗨️ Siz:  selam, biraz önce şirketimize çağın çatal adındaki birisi geldi ve 545 liralık danışmanlık ücreti aldı\n"
     ]
    },
    {
     "name": "stdout",
     "output_type": "stream",
     "text": [
      "🤖 DeepSeek: Aşağıda, verdiğiniz bilgilerden çıkarılan fatura verileri bulunmaktadır:\n",
      "\n",
      "```json\n",
      "{\n",
      "  \"name\": \"çağın çatal\",\n",
      "  \"date\": \"2023-10-09\",  // (Tarih belirtilmediği için işlem günü varsayılmıştır)\n",
      "  \"amount\": 545.00,\n",
      "  \"currency\": \"TRY\",\n",
      "  \"description\": \"danışmanlık ücreti\"\n",
      "}\n",
      "```\n",
      "\n",
      "### Açıklamalar:\n",
      "- **İsim**: \"çağın çatal\" olarak çıkarıldı (metinde geçtiği şekliyle).\n",
      "- **Tarih**: Girdide açık tarih belirtilmediği için, işlemin bugün (9 Ekim 2023) yapıldığı varsayılmıştır. Kesin tarih için ek bilgi gereklidir.\n",
      "- **Tutar**: \"545 lira\" olarak belirtilen miktar, `545.00 TRY` şeklinde sayısallaştırıldı.\n",
      "- **Açıklama**: \"danışmanlık ücreti\" hizmet detayı olarak kaydedildi.\n",
      "\n",
      "Eksik veya düzeltilmesi gereken bilgiler varsa lütfen bildirin!\n",
      "\n",
      "📤 Oluşturulan Fatura:\n",
      "\n",
      "📄 FATURA\n",
      "\n",
      "👤 Adı Soyadı: verdiğiniz bilgilerden\n",
      "🗓️ Fatura Tarihi: 9 Ekim 2023\n",
      "💵 Tutar: ₺202\n",
      "📝 Açıklama: danışmanlık ücreti\n",
      "\n",
      "Teşekkür ederiz. Bu fatura, 9 Ekim 2023 tarihinde yapay zekâ destekli hizmet kullanımı karşılığında kesilmiştir.\n",
      "\n",
      "━━━━━━━━━━━━━━━━━━━━━━━━━━━\n",
      "\n"
     ]
    }
   ],
   "source": [
    "import re\n",
    "import requests\n",
    "from datetime import datetime\n",
    "\n",
    "api_key = \"sk-7427782d5a614814b8f422dcc6b0ffbd\"\n",
    "base_url = \"https://api.deepseek.com/v1/chat/completions\"\n",
    "\n",
    "headers = {\n",
    "    \"Authorization\": f\"Bearer {api_key}\",\n",
    "    \"Content-Type\": \"application/json\"\n",
    "}\n",
    "\n",
    "chat_history = [{\"role\": \"system\", \"content\": \"You are a helpful assistant that extracts invoice data (name, date, amount, description) from user input.\"}]\n",
    "\n",
    "def generate_invoice(text: str) -> str:\n",
    "    # Geliştirilmiş desenler\n",
    "    name_pattern = r\"(?:adı\\s*soyadı\\s*:)?\\s*(?:biraz önce\\s*)?([A-ZÇĞİÖŞÜ][a-zçğıöşü]+\\s+[A-ZÇĞİÖŞÜ][a-zçğıöşü]+)\"\n",
    "    date_pattern = r\"(?:fatura\\s*(?:kesim)?\\s*tarihi\\s*:)?\\s*([0-9]{1,2}\\s*\\w+\\s*[0-9]{4})\"\n",
    "    amount_pattern = r\"([0-9]{1,3}(?:[.,][0-9]{3})*(?:[.,][0-9]{2})?)\\s*(tl|₺|dolar|usd)?\"\n",
    "    desc_pattern = r\"(?:açıklama|detay|nedeni|sebep)\\s*:\\s*([^,]+)|([a-zçğıöşü\\s]+ücreti)\"\n",
    "\n",
    "    # Eşleştirme\n",
    "    name = re.search(name_pattern, text, re.IGNORECASE)\n",
    "    date = re.search(date_pattern, text, re.IGNORECASE)\n",
    "    amount_match = re.search(amount_pattern, text, re.IGNORECASE)\n",
    "    description = re.search(desc_pattern, text, re.IGNORECASE)\n",
    "\n",
    "    # Verileri ayrıştır\n",
    "    name = name.group(1).strip() if name else \"Belirtilmedi\"\n",
    "    date = date.group(1).strip() if date else datetime.now().strftime(\"%d %B %Y\")\n",
    "    \n",
    "    if amount_match:\n",
    "        amount = amount_match.group(1).replace(\",\", \".\").strip()\n",
    "        currency = amount_match.group(2) or \"tl\"\n",
    "        currency_symbol = \"₺\" if \"tl\" in currency.lower() or \"₺\" in currency else \"$\"\n",
    "    else:\n",
    "        amount = \"0.00\"\n",
    "        currency_symbol = \"$\"\n",
    "\n",
    "    if description:\n",
    "        description = (description.group(1) or description.group(2)).strip()\n",
    "    else:\n",
    "        description = \"Yapay zekâ kullanım hizmeti\"\n",
    "\n",
    "    # Fatura metni\n",
    "    invoice = f\"\"\"📄 FATURA\n",
    "\n",
    "👤 Adı Soyadı: {name}\n",
    "🗓️ Fatura Tarihi: {date}\n",
    "💵 Tutar: {currency_symbol}{amount}\n",
    "📝 Açıklama: {description}\n",
    "\n",
    "Teşekkür ederiz. Bu fatura, {date} tarihinde yapay zekâ destekli hizmet kullanımı karşılığında kesilmiştir.\n",
    "\"\"\"\n",
    "    return invoice\n",
    "\n",
    "def start_invoice_chat():\n",
    "    print(\"🧾 Yapay Zekâ Destekli Fatura Chatbotuna Hoş Geldiniz.\")\n",
    "    print(\"Lütfen fatura bilgilerinizi doğal dil ile yazınız.\")\n",
    "    print(\"❌ Çıkmak için: 'çık', 'exit', 'quit' yazabilirsiniz.\\n\")\n",
    "\n",
    "    while True:\n",
    "        user_input = input(\"🗨️ Siz: \")\n",
    "        if user_input.lower() in ['çık', 'exit', 'quit']:\n",
    "            print(\"🔚 Chat sonlandırıldı.\")\n",
    "            break\n",
    "\n",
    "        # DeepSeek API'ye gönder\n",
    "        chat_history.append({\"role\": \"user\", \"content\": user_input})\n",
    "        data = {\n",
    "            \"model\": \"deepseek-reasoner\",\n",
    "            \"messages\": chat_history\n",
    "        }\n",
    "\n",
    "        response = requests.post(base_url, json=data, headers=headers)\n",
    "        if response.status_code == 200:\n",
    "            assistant_reply = response.json()['choices'][0]['message']['content']\n",
    "            chat_history.append({\"role\": \"assistant\", \"content\": assistant_reply})\n",
    "            print(\"🤖 DeepSeek:\", assistant_reply)\n",
    "\n",
    "            # DeepSeek'ten gelen cevabı kullanarak fatura oluştur\n",
    "            invoice_text = generate_invoice(assistant_reply)\n",
    "            print(\"\\n📤 Oluşturulan Fatura:\\n\")\n",
    "            print(invoice_text)\n",
    "            print(\"━━━━━━━━━━━━━━━━━━━━━━━━━━━\\n\")\n",
    "\n",
    "        else:\n",
    "            print(f\"❌ Hata {response.status_code}: {response.text}\")\n",
    "\n",
    "start_invoice_chat()"
   ]
  },
  {
   "cell_type": "code",
   "execution_count": null,
   "id": "0514fd05-4e9c-4d59-ad61-dae00549b0cf",
   "metadata": {},
   "outputs": [],
   "source": []
  }
 ],
 "metadata": {
  "kernelspec": {
   "display_name": "Python 3 (ipykernel)",
   "language": "python",
   "name": "python3"
  },
  "language_info": {
   "codemirror_mode": {
    "name": "ipython",
    "version": 3
   },
   "file_extension": ".py",
   "mimetype": "text/x-python",
   "name": "python",
   "nbconvert_exporter": "python",
   "pygments_lexer": "ipython3",
   "version": "3.13.3"
  }
 },
 "nbformat": 4,
 "nbformat_minor": 5
}
